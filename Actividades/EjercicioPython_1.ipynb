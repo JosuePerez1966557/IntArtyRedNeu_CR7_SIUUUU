{
  "nbformat": 4,
  "nbformat_minor": 0,
  "metadata": {
    "colab": {
      "provenance": []
    },
    "kernelspec": {
      "name": "python3",
      "display_name": "Python 3"
    },
    "language_info": {
      "name": "python"
    }
  },
  "cells": [
    {
      "cell_type": "code",
      "execution_count": null,
      "metadata": {
        "id": "k55bNeT-vDKr"
      },
      "outputs": [],
      "source": [
        "# A2: Ejercicios de Python\n",
        "# Josue Miguel Perez 1966557 N1"
      ]
    },
    {
      "cell_type": "code",
      "source": [
        "# Programa que pide al usuario ingresar su nombre y lo sauda con su nombre excepto si se llama Juan, Ana o Pedro"
      ],
      "metadata": {
        "id": "6Ugjr2KUSL-O"
      },
      "execution_count": null,
      "outputs": []
    },
    {
      "cell_type": "code",
      "source": [
        "name = input(\"ingresa tu nombre: \")\n",
        "if name == \"Juan\":\n",
        "  print(\"Ingresa otro nombre\")\n",
        "elif name == \"Ana\":\n",
        "  print(\"Ingresa otro nombre\")\n",
        "elif name == \"Pedro\":\n",
        "  print(\"Ingresa otro nombre\")\n",
        "else: \n",
        "  print(\"bienvenido\", name)"
      ],
      "metadata": {
        "id": "n1gsYhv5v56A",
        "colab": {
          "base_uri": "https://localhost:8080/"
        },
        "outputId": "4a6ddc90-229e-41c9-f15b-c59acb506992"
      },
      "execution_count": 8,
      "outputs": [
        {
          "output_type": "stream",
          "name": "stdout",
          "text": [
            "ingresa tu nombre: Josue\n",
            "bienvenido Josue\n"
          ]
        }
      ]
    },
    {
      "cell_type": "code",
      "source": [
        "# Programa que pide ingresar una lista de numeros al usuario y la imprime al reves"
      ],
      "metadata": {
        "id": "FLAo95mzR2RM"
      },
      "execution_count": null,
      "outputs": []
    },
    {
      "cell_type": "code",
      "source": [
        "lista=[]\n",
        "valor=int(input(\"Ingrese valor (0 para finalizar): \"))\n",
        "while valor != 0:\n",
        "    lista.append(valor)\n",
        "    valor=int(input(\"Ingresar valor (0 para finalizar): \"))\n",
        "lista.sort()\n",
        "def funcion(lista):\n",
        "  for x in range(len(lista)):\n",
        "    print(lista[x])\n",
        "funcion (lista)"
      ],
      "metadata": {
        "colab": {
          "base_uri": "https://localhost:8080/"
        },
        "id": "Qt8oTf43wf-1",
        "outputId": "7564e788-3eab-4a44-93bc-265ee1fc2561"
      },
      "execution_count": 3,
      "outputs": [
        {
          "output_type": "stream",
          "name": "stdout",
          "text": [
            "Ingrese valor (0 para finalizar): 54\n",
            "Ingresar valor (0 para finalizar): 65\n",
            "Ingresar valor (0 para finalizar): 8\n",
            "Ingresar valor (0 para finalizar): 0\n",
            "8\n",
            "54\n",
            "65\n"
          ]
        }
      ]
    },
    {
      "cell_type": "code",
      "source": [
        "# Programa que genere los números de la serie de fibonacci que el usuario ingrese"
      ],
      "metadata": {
        "id": "94mRVVv8Rd4g"
      },
      "execution_count": null,
      "outputs": []
    },
    {
      "cell_type": "code",
      "source": [
        "variable = int(input(\"Ingrese la cantidad de numeros a generar:  \"))\n",
        "fib = [0, 1]\n",
        "for i  in range(2, variable):\n",
        "  fib.append(fib[i-1] + fib[i-2])\n",
        "print(fib)"
      ],
      "metadata": {
        "colab": {
          "base_uri": "https://localhost:8080/"
        },
        "id": "BQisQCfxFMFa",
        "outputId": "0abda3b2-359f-433c-f481-f5c0c00eb0e0"
      },
      "execution_count": 7,
      "outputs": [
        {
          "output_type": "stream",
          "name": "stdout",
          "text": [
            "Ingrese la cantidad de numeros a generar:  25\n",
            "[0, 1, 1, 2, 3, 5, 8, 13, 21, 34, 55, 89, 144, 233, 377, 610, 987, 1597, 2584, 4181, 6765, 10946, 17711, 28657, 46368]\n"
          ]
        }
      ]
    }
  ]
}